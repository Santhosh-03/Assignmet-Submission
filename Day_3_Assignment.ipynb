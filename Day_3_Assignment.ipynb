{
  "nbformat": 4,
  "nbformat_minor": 0,
  "metadata": {
    "kernelspec": {
      "display_name": "Python 3",
      "language": "python",
      "name": "python3"
    },
    "language_info": {
      "codemirror_mode": {
        "name": "ipython",
        "version": 3
      },
      "file_extension": ".py",
      "mimetype": "text/x-python",
      "name": "python",
      "nbconvert_exporter": "python",
      "pygments_lexer": "ipython3",
      "version": "3.8.3"
    },
    "colab": {
      "name": "Day 3 Assignment.ipynb",
      "provenance": []
    }
  },
  "cells": [
    {
      "cell_type": "markdown",
      "metadata": {
        "id": "oZF1JnWo0Xsi"
      },
      "source": [
        "QUESTION 1:"
      ]
    },
    {
      "cell_type": "code",
      "metadata": {
        "id": "OGsKOaZa0XtA"
      },
      "source": [
        "import numpy as np"
      ],
      "execution_count": null,
      "outputs": []
    },
    {
      "cell_type": "code",
      "metadata": {
        "id": "2T1NIFfo0Xtb",
        "outputId": "857abb22-4ebc-4fe0-a69f-ce8c4c2ee41f",
        "colab": {
          "base_uri": "https://localhost:8080/"
        }
      },
      "source": [
        "np.arange(2,50,3)"
      ],
      "execution_count": null,
      "outputs": [
        {
          "output_type": "execute_result",
          "data": {
            "text/plain": [
              "array([ 2,  5,  8, 11, 14, 17, 20, 23, 26, 29, 32, 35, 38, 41, 44, 47])"
            ]
          },
          "metadata": {
            "tags": []
          },
          "execution_count": 3
        }
      ]
    },
    {
      "cell_type": "markdown",
      "metadata": {
        "id": "r3lxgArb0Xtz"
      },
      "source": [
        "QUESTION 2:"
      ]
    },
    {
      "cell_type": "code",
      "metadata": {
        "id": "7LsR2qNC0Xt2",
        "outputId": "320bf045-3709-488c-982d-5b33d42e564f",
        "colab": {
          "base_uri": "https://localhost:8080/"
        }
      },
      "source": [
        "list1=[]\n",
        "list2=[]\n",
        "print(\"The elemnts of List1 are:\")\n",
        "for i in range(5):\n",
        "    i=int(input())\n",
        "    list1.append(i)\n",
        "print()\n",
        "print(\"The elemnts of List2 are:\")\n",
        "for i in range(5):\n",
        "    i=int(input())\n",
        "    list2.append(i)\n",
        "np.array(list1)\n",
        "np.array(list2)\n",
        "print()\n",
        "print(np.concatenate((list1,list2),axis=None))\n",
        "print()\n",
        "np.sort(np.concatenate((list1,list2)))"
      ],
      "execution_count": null,
      "outputs": [
        {
          "output_type": "stream",
          "text": [
            "The elemnts of List1 are:\n",
            "78\n",
            "32\n",
            "56\n",
            "879\n",
            "43\n",
            "\n",
            "The elemnts of List2 are:\n",
            "35\n",
            "76\n",
            "324\n",
            "87\n",
            "980\n",
            "\n",
            "[ 78  32  56 879  43  35  76 324  87 980]\n",
            "\n"
          ],
          "name": "stdout"
        },
        {
          "output_type": "execute_result",
          "data": {
            "text/plain": [
              "array([ 32,  35,  43,  56,  76,  78,  87, 324, 879, 980])"
            ]
          },
          "metadata": {
            "tags": []
          },
          "execution_count": 4
        }
      ]
    },
    {
      "cell_type": "markdown",
      "metadata": {
        "id": "uFpnR5ZL1U5J"
      },
      "source": [
        "QUESTION 3:"
      ]
    },
    {
      "cell_type": "code",
      "metadata": {
        "id": "6eH7qNO40XuL",
        "outputId": "1593d1d7-2a16-48be-acb3-a75bc867319c",
        "colab": {
          "base_uri": "https://localhost:8080/"
        }
      },
      "source": [
        "ar=np.array( [ [12,24,36],[48,60,72],[84,96,108] ] )\n",
        "print(\"Dimensions of ndarray is:\",np.shape(ar))\n",
        "print()\n",
        "print(\"Size of ndarrary\",np.size(ar))\n"
      ],
      "execution_count": null,
      "outputs": [
        {
          "output_type": "stream",
          "text": [
            "Dimensions of ndarray is: (3, 3)\n",
            "\n",
            "Size of ndarrary 9\n"
          ],
          "name": "stdout"
        }
      ]
    },
    {
      "cell_type": "markdown",
      "metadata": {
        "id": "85YXGQt02SP6"
      },
      "source": [
        "QUESTION 4:"
      ]
    },
    {
      "cell_type": "code",
      "metadata": {
        "id": "10x0_wrZ0Xuc",
        "outputId": "9e389feb-631c-4199-bd14-5d60a03cd936",
        "colab": {
          "base_uri": "https://localhost:8080/"
        }
      },
      "source": [
        "ar1=np.array( [0,1,2,3,4,5,6,7,8,9,10,11] )\n",
        "print(\"1D array is:\",ar1)\n",
        "print()\n",
        "ar2=np.reshape(ar1,(6,2))\n",
        "print(\"2D array is:\",ar2)"
      ],
      "execution_count": null,
      "outputs": [
        {
          "output_type": "stream",
          "text": [
            "1D array is: [ 0  1  2  3  4  5  6  7  8  9 10 11]\n",
            "\n",
            "2D array is: [[ 0  1]\n",
            " [ 2  3]\n",
            " [ 4  5]\n",
            " [ 6  7]\n",
            " [ 8  9]\n",
            " [10 11]]\n"
          ],
          "name": "stdout"
        }
      ]
    },
    {
      "cell_type": "markdown",
      "metadata": {
        "id": "V1rMXNdu72mH"
      },
      "source": [
        "QUESTION 5:"
      ]
    },
    {
      "cell_type": "code",
      "metadata": {
        "id": "M81sr5Cw75wP",
        "outputId": "ef544cbf-3fb4-4e0e-cda4-ff3f934dd369",
        "colab": {
          "base_uri": "https://localhost:8080/"
        }
      },
      "source": [
        "ar1=np.array( [ [2,4,6],[8,10,12] ] )\n",
        "ar2=np.array( [ [1,3,5],[7,9,11] ] )\n",
        "ar_1=np.square(ar1)\n",
        "print(ar_1)\n",
        "print()\n",
        "ar_2=np.square(ar2)\n",
        "print(ar_2)\n",
        "print()\n",
        "newar1=np.hstack((ar_1,ar_2))\n",
        "print(newar1)\n",
        "print()\n",
        "newar2=np.vstack((ar_1,ar_2))\n",
        "print(newar2)"
      ],
      "execution_count": null,
      "outputs": [
        {
          "output_type": "stream",
          "text": [
            "[[  4  16  36]\n",
            " [ 64 100 144]]\n",
            "\n",
            "[[  1   9  25]\n",
            " [ 49  81 121]]\n",
            "\n",
            "[[  4  16  36   1   9  25]\n",
            " [ 64 100 144  49  81 121]]\n",
            "\n",
            "[[  4  16  36]\n",
            " [ 64 100 144]\n",
            " [  1   9  25]\n",
            " [ 49  81 121]]\n"
          ],
          "name": "stdout"
        }
      ]
    },
    {
      "cell_type": "markdown",
      "metadata": {
        "id": "XkBaMxhDfsUp"
      },
      "source": [
        "QUESTION 6:"
      ]
    },
    {
      "cell_type": "code",
      "metadata": {
        "id": "Ak2_a5Rc0Xuu",
        "outputId": "bec5afa1-d693-4133-dff0-7ad8008c3e22",
        "colab": {
          "base_uri": "https://localhost:8080/"
        }
      },
      "source": [
        "arr=np.array([10,20,10,35,55,20,35,90,10,55])\n",
        "print(arr)\n",
        "np.unique(arr)\n",
        "print()\n",
        "np.unique(arr,return_counts=True)"
      ],
      "execution_count": null,
      "outputs": [
        {
          "output_type": "stream",
          "text": [
            "[10 20 10 35 55 20 35 90 10 55]\n",
            "\n"
          ],
          "name": "stdout"
        },
        {
          "output_type": "execute_result",
          "data": {
            "text/plain": [
              "(array([10, 20, 35, 55, 90]), array([3, 2, 2, 2, 1]))"
            ]
          },
          "metadata": {
            "tags": []
          },
          "execution_count": 19
        }
      ]
    },
    {
      "cell_type": "code",
      "metadata": {
        "id": "y2XxnBmiic5E"
      },
      "source": [
        ""
      ],
      "execution_count": null,
      "outputs": []
    },
    {
      "cell_type": "code",
      "metadata": {
        "id": "T0-D_lRqic3J"
      },
      "source": [
        ""
      ],
      "execution_count": null,
      "outputs": []
    },
    {
      "cell_type": "code",
      "metadata": {
        "id": "3kSoHOKpicxJ"
      },
      "source": [
        ""
      ],
      "execution_count": null,
      "outputs": []
    },
    {
      "cell_type": "code",
      "metadata": {
        "id": "8Ak-F2Iw0Xu-"
      },
      "source": [
        ""
      ],
      "execution_count": null,
      "outputs": []
    },
    {
      "cell_type": "code",
      "metadata": {
        "id": "4DaSNJJy0Xvd"
      },
      "source": [
        ""
      ],
      "execution_count": null,
      "outputs": []
    }
  ]
}