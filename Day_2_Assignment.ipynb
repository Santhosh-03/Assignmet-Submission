{
  "nbformat": 4,
  "nbformat_minor": 0,
  "metadata": {
    "kernelspec": {
      "display_name": "Python 3",
      "language": "python",
      "name": "python3"
    },
    "language_info": {
      "codemirror_mode": {
        "name": "ipython",
        "version": 3
      },
      "file_extension": ".py",
      "mimetype": "text/x-python",
      "name": "python",
      "nbconvert_exporter": "python",
      "pygments_lexer": "ipython3",
      "version": "3.8.3"
    },
    "colab": {
      "name": "Day 2 Assignment.ipynb",
      "provenance": []
    }
  },
  "cells": [
    {
      "cell_type": "markdown",
      "metadata": {
        "id": "kJg2jEizZTK0"
      },
      "source": [
        "QUESTION 1:"
      ]
    },
    {
      "cell_type": "code",
      "metadata": {
        "id": "4VIQ-erEZTLO",
        "outputId": "adfc8a81-6fff-4193-f5e9-f90098d8c27d",
        "colab": {
          "base_uri": "https://localhost:8080/"
        }
      },
      "source": [
        "list=[]\n",
        "for x in range(10):\n",
        "    x=int(input())\n",
        "    if x % 2 == 0:\n",
        "        list.append(x)\n",
        "print(list)"
      ],
      "execution_count": 1,
      "outputs": [
        {
          "output_type": "stream",
          "text": [
            "45\n",
            "34\n",
            "76\n",
            "342\n",
            "76\n",
            "71\n",
            "45\n",
            "70\n",
            "98\n",
            "43\n",
            "[34, 76, 342, 76, 70, 98]\n"
          ],
          "name": "stdout"
        }
      ]
    },
    {
      "cell_type": "markdown",
      "metadata": {
        "id": "BXbkKfYYZTLs"
      },
      "source": [
        "QUESTION 2: LIST COMPREHENSION"
      ]
    },
    {
      "cell_type": "code",
      "metadata": {
        "id": "0dThOzJuZTLv",
        "outputId": "0981d243-a0c4-4cdd-ff27-62cac1ea3e7a"
      },
      "source": [
        "s= [x**2 for x in range(10)]\n",
        "print(s)"
      ],
      "execution_count": null,
      "outputs": [
        {
          "output_type": "stream",
          "text": [
            "[0, 1, 4, 9, 16, 25, 36, 49, 64, 81]\n"
          ],
          "name": "stdout"
        }
      ]
    },
    {
      "cell_type": "code",
      "metadata": {
        "id": "bujYACD_ZTMG",
        "outputId": "99d34327-18b3-4d22-f23f-a37fc19e073f"
      },
      "source": [
        "cubes=[x**3 for x in range(8)]\n",
        "print(cubes)"
      ],
      "execution_count": null,
      "outputs": [
        {
          "output_type": "stream",
          "text": [
            "[0, 1, 8, 27, 64, 125, 216, 343]\n"
          ],
          "name": "stdout"
        }
      ]
    },
    {
      "cell_type": "markdown",
      "metadata": {
        "id": "amwGhw63ZTMX"
      },
      "source": [
        "QUESTION 3:"
      ]
    },
    {
      "cell_type": "code",
      "metadata": {
        "id": "JVpjqGorZTMf",
        "outputId": "53d8c2c5-a1c9-4856-eb35-54426029270f",
        "colab": {
          "base_uri": "https://localhost:8080/"
        }
      },
      "source": [
        "n=int(input())\n",
        "print()\n",
        "d=dict()\n",
        "for x in range(1,n+1):\n",
        "    d[x]=x*x\n",
        "print(d)"
      ],
      "execution_count": 2,
      "outputs": [
        {
          "output_type": "stream",
          "text": [
            "9\n",
            "\n",
            "{1: 1, 2: 4, 3: 9, 4: 16, 5: 25, 6: 36, 7: 49, 8: 64, 9: 81}\n"
          ],
          "name": "stdout"
        }
      ]
    },
    {
      "cell_type": "markdown",
      "metadata": {
        "id": "RAC6sAbVZTMw"
      },
      "source": [
        "QUESTION 4:"
      ]
    },
    {
      "cell_type": "code",
      "metadata": {
        "id": "OdztxpldZTMz",
        "outputId": "78171eb0-a425-44f8-b01b-223d0830776a"
      },
      "source": [
        "\n",
        "import math\n",
        "#Init vars\n",
        "pos=[0,0]\n",
        "moves={\"UP\":[0,1],\n",
        "       \"DOWN\":[0,-1],\n",
        "       \"LEFT\":[-1,0],\n",
        "       \"RIGHT\":[1,0]}\n",
        "\n",
        "#Set inputs\n",
        "UP = int(input())\n",
        "DOWN = int(input())\n",
        "LEFT = int(input())\n",
        "RIGHT = int(input())\n",
        "data = [\"UP 5\",\n",
        "    \"DOWN 3\",\n",
        "    \"LEFT 3\",\n",
        "    \"RIGHT 2\"]\n",
        "\n",
        "#Move robot on valid moves\n",
        "for inp in data:\n",
        "    parts=inp.split()    \n",
        "    mv=parts[0]\n",
        "    val=parts[1]\n",
        "    if mv in moves and val.isnumeric():\n",
        "        pos[0] = pos[0]+ moves[mv][0]*int(val)\n",
        "        pos[1] = pos[1]+ moves[mv][1]*int(val)\n",
        "\n",
        "#get distance     \n",
        "distance=math.sqrt(pos[0]**2 + pos[1]**2)\n",
        "print(round(distance), \"from [0,0] to\",pos)"
      ],
      "execution_count": null,
      "outputs": [
        {
          "output_type": "stream",
          "text": [
            "5\n",
            "3\n",
            "3\n",
            "2\n",
            "2 from [0,0] to [-1, 2]\n"
          ],
          "name": "stdout"
        }
      ]
    },
    {
      "cell_type": "code",
      "metadata": {
        "id": "RuMKdWgsZTNH",
        "outputId": "3f670121-ce1d-493e-8093-cf3500a2b490"
      },
      "source": [
        "import math\n",
        "\n",
        "position = [0,0]\n",
        "direction = ['+Y','-Y','-X','+X']\n",
        "magnitude = [5,3,3,2]\n",
        "i = 0\n",
        "\n",
        "while i < len(direction):\n",
        "    if direction[i] == '+Y': position[0] += magnitude[i]\n",
        "    elif direction[i] == '-Y': position[0] -= magnitude[i]\n",
        "    elif direction[i] == '+X': position[1] += magnitude[i]\n",
        "    elif direction[i] == '-X': position[1] -= magnitude[i]\n",
        "    else: pass\n",
        "    i += 1\n",
        "\n",
        "print(round(math.sqrt(position[1]**2+position[0]**2)))"
      ],
      "execution_count": null,
      "outputs": [
        {
          "output_type": "stream",
          "text": [
            "2\n"
          ],
          "name": "stdout"
        }
      ]
    },
    {
      "cell_type": "code",
      "metadata": {
        "id": "jDrZTYuBZTNe"
      },
      "source": [
        ""
      ],
      "execution_count": null,
      "outputs": []
    }
  ]
}